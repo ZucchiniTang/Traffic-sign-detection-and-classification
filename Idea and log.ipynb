{
 "cells": [
  {
   "cell_type": "markdown",
   "metadata": {},
   "source": [
    "# Idea and Log of 'traffic_sign_detection_and_classification' "
   ]
  },
  {
   "cell_type": "markdown",
   "metadata": {},
   "source": [
    "## 1. Idea"
   ]
  },
  {
   "cell_type": "markdown",
   "metadata": {},
   "source": [
    "1. __Extract__ better __feature map__ which input to detection/classification model\n",
    "  1. Using __Saliency map__ (try to combine traditional and Neural network method to get saliency map) \n",
    "    1. Traditional method\n",
    "       1. Paper: *Accurate and Efficient Traffic Sign Detection Using Discriminative AdaBoost and Support Vector Regression* http://ieeexplore.ieee.org/stamp/stamp.jsp?tp=&arnumber=7328325 \n",
    "           1. Page 4008: Enhancd Feature Pyramids - 根据traffic sign的颜色和（形状）特性来改变color channel.\n",
    "           2. Page 4010: Learn a Gaussian mixture model(GMM) to approximate the distribution of these signs' positions in the detection image.\n",
    "    2. Neural Network method\n",
    "        1. Paper: *Shallow and Deep Convolutional Networks for Saliency Prediction* - shallow and deep CNN model, transfer learning\n",
    "        2. Paper: *SalGAN: Visual Saliency Prediction with Generative Adversarial Networks* - GAN\n",
    "  \n"
   ]
  },
  {
   "cell_type": "code",
   "execution_count": null,
   "metadata": {
    "collapsed": true
   },
   "outputs": [],
   "source": []
  }
 ],
 "metadata": {
  "kernelspec": {
   "display_name": "Python 3",
   "language": "python",
   "name": "python3"
  },
  "language_info": {
   "codemirror_mode": {
    "name": "ipython",
    "version": 3
   },
   "file_extension": ".py",
   "mimetype": "text/x-python",
   "name": "python",
   "nbconvert_exporter": "python",
   "pygments_lexer": "ipython3",
   "version": "3.6.0"
  }
 },
 "nbformat": 4,
 "nbformat_minor": 2
}
